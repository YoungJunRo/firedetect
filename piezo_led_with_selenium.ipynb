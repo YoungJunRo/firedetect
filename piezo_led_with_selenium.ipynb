{
 "cells": [
  {
   "cell_type": "code",
   "execution_count": null,
   "id": "a2e233be",
   "metadata": {},
   "outputs": [],
   "source": [
    "from selenium import webdriver\n",
    "import RPi.GPIO as GPIO\n",
    "import time\n",
    "from rpi_ws281x import *\n",
    "import argparse\n",
    "\n",
    "LED_COUNT      = 1\n",
    "LED_PIN        = 18\n",
    "\n",
    "strip = PixelStrip(LED_COUNT, LED_PIN)\n",
    "options = webdriver.ChromeOptions()\n",
    "options.add_argument('--no-sandbox')\n",
    "\n",
    "driver = webdriver.Chrome('/usr/lib/chromium-browser/chromedriver', options=options)\n",
    "driver.get('http://192.168.137.127')\n",
    "\n",
    "def colorWipe(strip, color, wait_ms=50):\n",
    "    \"\"\"Wipe color across display a pixel at a time.\"\"\"\n",
    "    for i in range(strip.numPixels()):\n",
    "        strip.setPixelColor(i, color)\n",
    "        strip.show()\n",
    "        time.sleep(1)\n",
    "        \n",
    "while True:\n",
    "    time.sleep(10)\n",
    "    fire = driver.find_element_by_css_selector('body > span.fire > em').text\n",
    "    gas = driver.find_element_by_css_selector('body > span.gas > em').text\n",
    "    print(fire)\n",
    "    print(gas)\n",
    "    ifire = float(fire)\n",
    "    igas = float(gas)\n",
    "    if ifire == 0 and igas >= 300:\n",
    "        strip.begin()\n",
    "        buzzer = 23\n",
    "        GPIO.setmode(GPIO.BCM)\n",
    "        GPIO.setup(buzzer, GPIO.OUT)\n",
    "        GPIO.setwarnings(False)\n",
    "        list = [261, 294, 329, 349, 392, 440, 493 ,523]\n",
    "        while True:\n",
    "            try:\n",
    "                p = GPIO.PWM(buzzer, 100) \n",
    "                p.start(100)\n",
    "                p.ChangeDutyCycle(90)\n",
    "                for i in range(8):\n",
    "                    p.ChangeFrequency(list[i])\n",
    "                    time.sleep(1)\n",
    "                p.stop()\n",
    "                colorWipe(strip, Color(255, 0, 0))\n",
    "                colorWipe(strip, Color(0, 255, 0))\n",
    "                colorWipe(strip, Color(0, 0, 255))\n",
    "            except:pass\n",
    "    else:pass"
   ]
  }
 ],
 "metadata": {
  "kernelspec": {
   "display_name": "Python 3",
   "language": "python",
   "name": "python3"
  },
  "language_info": {
   "codemirror_mode": {
    "name": "ipython",
    "version": 3
   },
   "file_extension": ".py",
   "mimetype": "text/x-python",
   "name": "python",
   "nbconvert_exporter": "python",
   "pygments_lexer": "ipython3",
   "version": "3.6.5"
  }
 },
 "nbformat": 4,
 "nbformat_minor": 5
}
